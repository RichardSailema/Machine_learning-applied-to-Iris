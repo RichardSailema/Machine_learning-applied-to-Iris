{
 "cells": [
  {
   "cell_type": "markdown",
   "id": "a2a75627",
   "metadata": {},
   "source": [
    "### En este notebook se aplicarán algoritmos básicos de Machine Learning para el dataset de Iris\n",
    "\n",
    "* Se usará la librería de scikit-learn\n",
    "* Se usará los algoritmos de Regresión Lineal, Regresión Logística, Radom Forest y K-Means"
   ]
  },
  {
   "cell_type": "code",
   "execution_count": 1,
   "id": "bb7d97f2",
   "metadata": {},
   "outputs": [],
   "source": [
    "# Importamos las librerías de manejo numérico y procesamiento de datos.\n",
    "import numpy as np\n",
    "import pandas as pd\n",
    "\n",
    "# Importamos scikit-learn que es nuestra librería básica para utilizar algoritmos de Machine Learning.\n",
    "import sklearn\n",
    "\n",
    "# Importamos los datasets de scikit-learn\n",
    "from sklearn import datasets\n",
    "\n",
    "# Importamos la librería de scikit-learn para manejo de Regresión Lineal y Logística\n",
    "from sklearn import linear_model\n",
    "\n",
    "# Importamos la librería de scikit-learn para uso de clasificación de random forest\n",
    "from sklearn.ensemble import RandomForestClassifier\n",
    "\n",
    "# Importamos la librería de scikit-learn para clusterización de K-Means\n",
    "from sklearn.cluster import KMeans\n",
    "\n",
    "# Importamos librerías para manejo del rendimiento (perfomance) de nuestros modelos.\n",
    "from sklearn.metrics import mean_squared_error, r2_score, accuracy_score\n",
    "\n",
    "# Importamos librerías para graficar.\n",
    "from mpl_toolkits.mplot3d import Axes3D\n",
    "import matplotlib.pyplot as plt\n",
    "\n",
    "# Definimos el tamaño del graficado\n",
    "plt.rcParams['font.size'] = 15\n",
    "\n",
    "# Importamos seaborn para visualizar graficas\n",
    "import seaborn as sns"
   ]
  },
  {
   "cell_type": "markdown",
   "id": "5511206f",
   "metadata": {},
   "source": [
    "### Usaremos el dataset de Iris ya que es un dataset limpio y didáctico para aprender aplicar algoritmos de Machine Learnig"
   ]
  },
  {
   "cell_type": "code",
   "execution_count": 2,
   "id": "90b2f121",
   "metadata": {},
   "outputs": [
    {
     "name": "stdout",
     "output_type": "stream",
     "text": [
      "{'data': array([[5.1, 3.5, 1.4, 0.2],\n",
      "       [4.9, 3. , 1.4, 0.2],\n",
      "       [4.7, 3.2, 1.3, 0.2],\n",
      "       [4.6, 3.1, 1.5, 0.2],\n",
      "       [5. , 3.6, 1.4, 0.2],\n",
      "       [5.4, 3.9, 1.7, 0.4],\n",
      "       [4.6, 3.4, 1.4, 0.3],\n",
      "       [5. , 3.4, 1.5, 0.2],\n",
      "       [4.4, 2.9, 1.4, 0.2],\n",
      "       [4.9, 3.1, 1.5, 0.1],\n",
      "       [5.4, 3.7, 1.5, 0.2],\n",
      "       [4.8, 3.4, 1.6, 0.2],\n",
      "       [4.8, 3. , 1.4, 0.1],\n",
      "       [4.3, 3. , 1.1, 0.1],\n",
      "       [5.8, 4. , 1.2, 0.2],\n",
      "       [5.7, 4.4, 1.5, 0.4],\n",
      "       [5.4, 3.9, 1.3, 0.4],\n",
      "       [5.1, 3.5, 1.4, 0.3],\n",
      "       [5.7, 3.8, 1.7, 0.3],\n",
      "       [5.1, 3.8, 1.5, 0.3],\n",
      "       [5.4, 3.4, 1.7, 0.2],\n",
      "       [5.1, 3.7, 1.5, 0.4],\n",
      "       [4.6, 3.6, 1. , 0.2],\n",
      "       [5.1, 3.3, 1.7, 0.5],\n",
      "       [4.8, 3.4, 1.9, 0.2],\n",
      "       [5. , 3. , 1.6, 0.2],\n",
      "       [5. , 3.4, 1.6, 0.4],\n",
      "       [5.2, 3.5, 1.5, 0.2],\n",
      "       [5.2, 3.4, 1.4, 0.2],\n",
      "       [4.7, 3.2, 1.6, 0.2],\n",
      "       [4.8, 3.1, 1.6, 0.2],\n",
      "       [5.4, 3.4, 1.5, 0.4],\n",
      "       [5.2, 4.1, 1.5, 0.1],\n",
      "       [5.5, 4.2, 1.4, 0.2],\n",
      "       [4.9, 3.1, 1.5, 0.2],\n",
      "       [5. , 3.2, 1.2, 0.2],\n",
      "       [5.5, 3.5, 1.3, 0.2],\n",
      "       [4.9, 3.6, 1.4, 0.1],\n",
      "       [4.4, 3. , 1.3, 0.2],\n",
      "       [5.1, 3.4, 1.5, 0.2],\n",
      "       [5. , 3.5, 1.3, 0.3],\n",
      "       [4.5, 2.3, 1.3, 0.3],\n",
      "       [4.4, 3.2, 1.3, 0.2],\n",
      "       [5. , 3.5, 1.6, 0.6],\n",
      "       [5.1, 3.8, 1.9, 0.4],\n",
      "       [4.8, 3. , 1.4, 0.3],\n",
      "       [5.1, 3.8, 1.6, 0.2],\n",
      "       [4.6, 3.2, 1.4, 0.2],\n",
      "       [5.3, 3.7, 1.5, 0.2],\n",
      "       [5. , 3.3, 1.4, 0.2],\n",
      "       [7. , 3.2, 4.7, 1.4],\n",
      "       [6.4, 3.2, 4.5, 1.5],\n",
      "       [6.9, 3.1, 4.9, 1.5],\n",
      "       [5.5, 2.3, 4. , 1.3],\n",
      "       [6.5, 2.8, 4.6, 1.5],\n",
      "       [5.7, 2.8, 4.5, 1.3],\n",
      "       [6.3, 3.3, 4.7, 1.6],\n",
      "       [4.9, 2.4, 3.3, 1. ],\n",
      "       [6.6, 2.9, 4.6, 1.3],\n",
      "       [5.2, 2.7, 3.9, 1.4],\n",
      "       [5. , 2. , 3.5, 1. ],\n",
      "       [5.9, 3. , 4.2, 1.5],\n",
      "       [6. , 2.2, 4. , 1. ],\n",
      "       [6.1, 2.9, 4.7, 1.4],\n",
      "       [5.6, 2.9, 3.6, 1.3],\n",
      "       [6.7, 3.1, 4.4, 1.4],\n",
      "       [5.6, 3. , 4.5, 1.5],\n",
      "       [5.8, 2.7, 4.1, 1. ],\n",
      "       [6.2, 2.2, 4.5, 1.5],\n",
      "       [5.6, 2.5, 3.9, 1.1],\n",
      "       [5.9, 3.2, 4.8, 1.8],\n",
      "       [6.1, 2.8, 4. , 1.3],\n",
      "       [6.3, 2.5, 4.9, 1.5],\n",
      "       [6.1, 2.8, 4.7, 1.2],\n",
      "       [6.4, 2.9, 4.3, 1.3],\n",
      "       [6.6, 3. , 4.4, 1.4],\n",
      "       [6.8, 2.8, 4.8, 1.4],\n",
      "       [6.7, 3. , 5. , 1.7],\n",
      "       [6. , 2.9, 4.5, 1.5],\n",
      "       [5.7, 2.6, 3.5, 1. ],\n",
      "       [5.5, 2.4, 3.8, 1.1],\n",
      "       [5.5, 2.4, 3.7, 1. ],\n",
      "       [5.8, 2.7, 3.9, 1.2],\n",
      "       [6. , 2.7, 5.1, 1.6],\n",
      "       [5.4, 3. , 4.5, 1.5],\n",
      "       [6. , 3.4, 4.5, 1.6],\n",
      "       [6.7, 3.1, 4.7, 1.5],\n",
      "       [6.3, 2.3, 4.4, 1.3],\n",
      "       [5.6, 3. , 4.1, 1.3],\n",
      "       [5.5, 2.5, 4. , 1.3],\n",
      "       [5.5, 2.6, 4.4, 1.2],\n",
      "       [6.1, 3. , 4.6, 1.4],\n",
      "       [5.8, 2.6, 4. , 1.2],\n",
      "       [5. , 2.3, 3.3, 1. ],\n",
      "       [5.6, 2.7, 4.2, 1.3],\n",
      "       [5.7, 3. , 4.2, 1.2],\n",
      "       [5.7, 2.9, 4.2, 1.3],\n",
      "       [6.2, 2.9, 4.3, 1.3],\n",
      "       [5.1, 2.5, 3. , 1.1],\n",
      "       [5.7, 2.8, 4.1, 1.3],\n",
      "       [6.3, 3.3, 6. , 2.5],\n",
      "       [5.8, 2.7, 5.1, 1.9],\n",
      "       [7.1, 3. , 5.9, 2.1],\n",
      "       [6.3, 2.9, 5.6, 1.8],\n",
      "       [6.5, 3. , 5.8, 2.2],\n",
      "       [7.6, 3. , 6.6, 2.1],\n",
      "       [4.9, 2.5, 4.5, 1.7],\n",
      "       [7.3, 2.9, 6.3, 1.8],\n",
      "       [6.7, 2.5, 5.8, 1.8],\n",
      "       [7.2, 3.6, 6.1, 2.5],\n",
      "       [6.5, 3.2, 5.1, 2. ],\n",
      "       [6.4, 2.7, 5.3, 1.9],\n",
      "       [6.8, 3. , 5.5, 2.1],\n",
      "       [5.7, 2.5, 5. , 2. ],\n",
      "       [5.8, 2.8, 5.1, 2.4],\n",
      "       [6.4, 3.2, 5.3, 2.3],\n",
      "       [6.5, 3. , 5.5, 1.8],\n",
      "       [7.7, 3.8, 6.7, 2.2],\n",
      "       [7.7, 2.6, 6.9, 2.3],\n",
      "       [6. , 2.2, 5. , 1.5],\n",
      "       [6.9, 3.2, 5.7, 2.3],\n",
      "       [5.6, 2.8, 4.9, 2. ],\n",
      "       [7.7, 2.8, 6.7, 2. ],\n",
      "       [6.3, 2.7, 4.9, 1.8],\n",
      "       [6.7, 3.3, 5.7, 2.1],\n",
      "       [7.2, 3.2, 6. , 1.8],\n",
      "       [6.2, 2.8, 4.8, 1.8],\n",
      "       [6.1, 3. , 4.9, 1.8],\n",
      "       [6.4, 2.8, 5.6, 2.1],\n",
      "       [7.2, 3. , 5.8, 1.6],\n",
      "       [7.4, 2.8, 6.1, 1.9],\n",
      "       [7.9, 3.8, 6.4, 2. ],\n",
      "       [6.4, 2.8, 5.6, 2.2],\n",
      "       [6.3, 2.8, 5.1, 1.5],\n",
      "       [6.1, 2.6, 5.6, 1.4],\n",
      "       [7.7, 3. , 6.1, 2.3],\n",
      "       [6.3, 3.4, 5.6, 2.4],\n",
      "       [6.4, 3.1, 5.5, 1.8],\n",
      "       [6. , 3. , 4.8, 1.8],\n",
      "       [6.9, 3.1, 5.4, 2.1],\n",
      "       [6.7, 3.1, 5.6, 2.4],\n",
      "       [6.9, 3.1, 5.1, 2.3],\n",
      "       [5.8, 2.7, 5.1, 1.9],\n",
      "       [6.8, 3.2, 5.9, 2.3],\n",
      "       [6.7, 3.3, 5.7, 2.5],\n",
      "       [6.7, 3. , 5.2, 2.3],\n",
      "       [6.3, 2.5, 5. , 1.9],\n",
      "       [6.5, 3. , 5.2, 2. ],\n",
      "       [6.2, 3.4, 5.4, 2.3],\n",
      "       [5.9, 3. , 5.1, 1.8]]), 'target': array([0, 0, 0, 0, 0, 0, 0, 0, 0, 0, 0, 0, 0, 0, 0, 0, 0, 0, 0, 0, 0, 0,\n",
      "       0, 0, 0, 0, 0, 0, 0, 0, 0, 0, 0, 0, 0, 0, 0, 0, 0, 0, 0, 0, 0, 0,\n",
      "       0, 0, 0, 0, 0, 0, 1, 1, 1, 1, 1, 1, 1, 1, 1, 1, 1, 1, 1, 1, 1, 1,\n",
      "       1, 1, 1, 1, 1, 1, 1, 1, 1, 1, 1, 1, 1, 1, 1, 1, 1, 1, 1, 1, 1, 1,\n",
      "       1, 1, 1, 1, 1, 1, 1, 1, 1, 1, 1, 1, 2, 2, 2, 2, 2, 2, 2, 2, 2, 2,\n",
      "       2, 2, 2, 2, 2, 2, 2, 2, 2, 2, 2, 2, 2, 2, 2, 2, 2, 2, 2, 2, 2, 2,\n",
      "       2, 2, 2, 2, 2, 2, 2, 2, 2, 2, 2, 2, 2, 2, 2, 2, 2, 2]), 'frame': None, 'target_names': array(['setosa', 'versicolor', 'virginica'], dtype='<U10'), 'DESCR': '.. _iris_dataset:\\n\\nIris plants dataset\\n--------------------\\n\\n**Data Set Characteristics:**\\n\\n    :Number of Instances: 150 (50 in each of three classes)\\n    :Number of Attributes: 4 numeric, predictive attributes and the class\\n    :Attribute Information:\\n        - sepal length in cm\\n        - sepal width in cm\\n        - petal length in cm\\n        - petal width in cm\\n        - class:\\n                - Iris-Setosa\\n                - Iris-Versicolour\\n                - Iris-Virginica\\n                \\n    :Summary Statistics:\\n\\n    ============== ==== ==== ======= ===== ====================\\n                    Min  Max   Mean    SD   Class Correlation\\n    ============== ==== ==== ======= ===== ====================\\n    sepal length:   4.3  7.9   5.84   0.83    0.7826\\n    sepal width:    2.0  4.4   3.05   0.43   -0.4194\\n    petal length:   1.0  6.9   3.76   1.76    0.9490  (high!)\\n    petal width:    0.1  2.5   1.20   0.76    0.9565  (high!)\\n    ============== ==== ==== ======= ===== ====================\\n\\n    :Missing Attribute Values: None\\n    :Class Distribution: 33.3% for each of 3 classes.\\n    :Creator: R.A. Fisher\\n    :Donor: Michael Marshall (MARSHALL%PLU@io.arc.nasa.gov)\\n    :Date: July, 1988\\n\\nThe famous Iris database, first used by Sir R.A. Fisher. The dataset is taken\\nfrom Fisher\\'s paper. Note that it\\'s the same as in R, but not as in the UCI\\nMachine Learning Repository, which has two wrong data points.\\n\\nThis is perhaps the best known database to be found in the\\npattern recognition literature.  Fisher\\'s paper is a classic in the field and\\nis referenced frequently to this day.  (See Duda & Hart, for example.)  The\\ndata set contains 3 classes of 50 instances each, where each class refers to a\\ntype of iris plant.  One class is linearly separable from the other 2; the\\nlatter are NOT linearly separable from each other.\\n\\n.. topic:: References\\n\\n   - Fisher, R.A. \"The use of multiple measurements in taxonomic problems\"\\n     Annual Eugenics, 7, Part II, 179-188 (1936); also in \"Contributions to\\n     Mathematical Statistics\" (John Wiley, NY, 1950).\\n   - Duda, R.O., & Hart, P.E. (1973) Pattern Classification and Scene Analysis.\\n     (Q327.D83) John Wiley & Sons.  ISBN 0-471-22361-1.  See page 218.\\n   - Dasarathy, B.V. (1980) \"Nosing Around the Neighborhood: A New System\\n     Structure and Classification Rule for Recognition in Partially Exposed\\n     Environments\".  IEEE Transactions on Pattern Analysis and Machine\\n     Intelligence, Vol. PAMI-2, No. 1, 67-71.\\n   - Gates, G.W. (1972) \"The Reduced Nearest Neighbor Rule\".  IEEE Transactions\\n     on Information Theory, May 1972, 431-433.\\n   - See also: 1988 MLC Proceedings, 54-64.  Cheeseman et al\"s AUTOCLASS II\\n     conceptual clustering system finds 3 classes in the data.\\n   - Many, many more ...', 'feature_names': ['sepal length (cm)', 'sepal width (cm)', 'petal length (cm)', 'petal width (cm)'], 'filename': '/home/richard/anaconda3/lib/python3.9/site-packages/sklearn/datasets/data/iris.csv'}\n"
     ]
    }
   ],
   "source": [
    "# Descargamos el dataset de Iris del modulo datasets de scikit-learn.\n",
    "iris = datasets.load_iris()\n",
    "\n",
    "# Echamos un vistazo a los datos que están contenidos en un array\n",
    "print(iris)"
   ]
  },
  {
   "cell_type": "markdown",
   "id": "addd361b",
   "metadata": {},
   "source": [
    "### Inspeccionamos el dataset."
   ]
  },
  {
   "cell_type": "code",
   "execution_count": 3,
   "id": "12f4e57b",
   "metadata": {},
   "outputs": [
    {
     "name": "stdout",
     "output_type": "stream",
     "text": [
      "Estos son el conjunto de datos:  [[5.1 3.5 1.4 0.2]\n",
      " [4.9 3.  1.4 0.2]\n",
      " [4.7 3.2 1.3 0.2]\n",
      " [4.6 3.1 1.5 0.2]\n",
      " [5.  3.6 1.4 0.2]\n",
      " [5.4 3.9 1.7 0.4]\n",
      " [4.6 3.4 1.4 0.3]\n",
      " [5.  3.4 1.5 0.2]\n",
      " [4.4 2.9 1.4 0.2]\n",
      " [4.9 3.1 1.5 0.1]\n",
      " [5.4 3.7 1.5 0.2]\n",
      " [4.8 3.4 1.6 0.2]\n",
      " [4.8 3.  1.4 0.1]\n",
      " [4.3 3.  1.1 0.1]\n",
      " [5.8 4.  1.2 0.2]\n",
      " [5.7 4.4 1.5 0.4]\n",
      " [5.4 3.9 1.3 0.4]\n",
      " [5.1 3.5 1.4 0.3]\n",
      " [5.7 3.8 1.7 0.3]\n",
      " [5.1 3.8 1.5 0.3]\n",
      " [5.4 3.4 1.7 0.2]\n",
      " [5.1 3.7 1.5 0.4]\n",
      " [4.6 3.6 1.  0.2]\n",
      " [5.1 3.3 1.7 0.5]\n",
      " [4.8 3.4 1.9 0.2]\n",
      " [5.  3.  1.6 0.2]\n",
      " [5.  3.4 1.6 0.4]\n",
      " [5.2 3.5 1.5 0.2]\n",
      " [5.2 3.4 1.4 0.2]\n",
      " [4.7 3.2 1.6 0.2]\n",
      " [4.8 3.1 1.6 0.2]\n",
      " [5.4 3.4 1.5 0.4]\n",
      " [5.2 4.1 1.5 0.1]\n",
      " [5.5 4.2 1.4 0.2]\n",
      " [4.9 3.1 1.5 0.2]\n",
      " [5.  3.2 1.2 0.2]\n",
      " [5.5 3.5 1.3 0.2]\n",
      " [4.9 3.6 1.4 0.1]\n",
      " [4.4 3.  1.3 0.2]\n",
      " [5.1 3.4 1.5 0.2]\n",
      " [5.  3.5 1.3 0.3]\n",
      " [4.5 2.3 1.3 0.3]\n",
      " [4.4 3.2 1.3 0.2]\n",
      " [5.  3.5 1.6 0.6]\n",
      " [5.1 3.8 1.9 0.4]\n",
      " [4.8 3.  1.4 0.3]\n",
      " [5.1 3.8 1.6 0.2]\n",
      " [4.6 3.2 1.4 0.2]\n",
      " [5.3 3.7 1.5 0.2]\n",
      " [5.  3.3 1.4 0.2]\n",
      " [7.  3.2 4.7 1.4]\n",
      " [6.4 3.2 4.5 1.5]\n",
      " [6.9 3.1 4.9 1.5]\n",
      " [5.5 2.3 4.  1.3]\n",
      " [6.5 2.8 4.6 1.5]\n",
      " [5.7 2.8 4.5 1.3]\n",
      " [6.3 3.3 4.7 1.6]\n",
      " [4.9 2.4 3.3 1. ]\n",
      " [6.6 2.9 4.6 1.3]\n",
      " [5.2 2.7 3.9 1.4]\n",
      " [5.  2.  3.5 1. ]\n",
      " [5.9 3.  4.2 1.5]\n",
      " [6.  2.2 4.  1. ]\n",
      " [6.1 2.9 4.7 1.4]\n",
      " [5.6 2.9 3.6 1.3]\n",
      " [6.7 3.1 4.4 1.4]\n",
      " [5.6 3.  4.5 1.5]\n",
      " [5.8 2.7 4.1 1. ]\n",
      " [6.2 2.2 4.5 1.5]\n",
      " [5.6 2.5 3.9 1.1]\n",
      " [5.9 3.2 4.8 1.8]\n",
      " [6.1 2.8 4.  1.3]\n",
      " [6.3 2.5 4.9 1.5]\n",
      " [6.1 2.8 4.7 1.2]\n",
      " [6.4 2.9 4.3 1.3]\n",
      " [6.6 3.  4.4 1.4]\n",
      " [6.8 2.8 4.8 1.4]\n",
      " [6.7 3.  5.  1.7]\n",
      " [6.  2.9 4.5 1.5]\n",
      " [5.7 2.6 3.5 1. ]\n",
      " [5.5 2.4 3.8 1.1]\n",
      " [5.5 2.4 3.7 1. ]\n",
      " [5.8 2.7 3.9 1.2]\n",
      " [6.  2.7 5.1 1.6]\n",
      " [5.4 3.  4.5 1.5]\n",
      " [6.  3.4 4.5 1.6]\n",
      " [6.7 3.1 4.7 1.5]\n",
      " [6.3 2.3 4.4 1.3]\n",
      " [5.6 3.  4.1 1.3]\n",
      " [5.5 2.5 4.  1.3]\n",
      " [5.5 2.6 4.4 1.2]\n",
      " [6.1 3.  4.6 1.4]\n",
      " [5.8 2.6 4.  1.2]\n",
      " [5.  2.3 3.3 1. ]\n",
      " [5.6 2.7 4.2 1.3]\n",
      " [5.7 3.  4.2 1.2]\n",
      " [5.7 2.9 4.2 1.3]\n",
      " [6.2 2.9 4.3 1.3]\n",
      " [5.1 2.5 3.  1.1]\n",
      " [5.7 2.8 4.1 1.3]\n",
      " [6.3 3.3 6.  2.5]\n",
      " [5.8 2.7 5.1 1.9]\n",
      " [7.1 3.  5.9 2.1]\n",
      " [6.3 2.9 5.6 1.8]\n",
      " [6.5 3.  5.8 2.2]\n",
      " [7.6 3.  6.6 2.1]\n",
      " [4.9 2.5 4.5 1.7]\n",
      " [7.3 2.9 6.3 1.8]\n",
      " [6.7 2.5 5.8 1.8]\n",
      " [7.2 3.6 6.1 2.5]\n",
      " [6.5 3.2 5.1 2. ]\n",
      " [6.4 2.7 5.3 1.9]\n",
      " [6.8 3.  5.5 2.1]\n",
      " [5.7 2.5 5.  2. ]\n",
      " [5.8 2.8 5.1 2.4]\n",
      " [6.4 3.2 5.3 2.3]\n",
      " [6.5 3.  5.5 1.8]\n",
      " [7.7 3.8 6.7 2.2]\n",
      " [7.7 2.6 6.9 2.3]\n",
      " [6.  2.2 5.  1.5]\n",
      " [6.9 3.2 5.7 2.3]\n",
      " [5.6 2.8 4.9 2. ]\n",
      " [7.7 2.8 6.7 2. ]\n",
      " [6.3 2.7 4.9 1.8]\n",
      " [6.7 3.3 5.7 2.1]\n",
      " [7.2 3.2 6.  1.8]\n",
      " [6.2 2.8 4.8 1.8]\n",
      " [6.1 3.  4.9 1.8]\n",
      " [6.4 2.8 5.6 2.1]\n",
      " [7.2 3.  5.8 1.6]\n",
      " [7.4 2.8 6.1 1.9]\n",
      " [7.9 3.8 6.4 2. ]\n",
      " [6.4 2.8 5.6 2.2]\n",
      " [6.3 2.8 5.1 1.5]\n",
      " [6.1 2.6 5.6 1.4]\n",
      " [7.7 3.  6.1 2.3]\n",
      " [6.3 3.4 5.6 2.4]\n",
      " [6.4 3.1 5.5 1.8]\n",
      " [6.  3.  4.8 1.8]\n",
      " [6.9 3.1 5.4 2.1]\n",
      " [6.7 3.1 5.6 2.4]\n",
      " [6.9 3.1 5.1 2.3]\n",
      " [5.8 2.7 5.1 1.9]\n",
      " [6.8 3.2 5.9 2.3]\n",
      " [6.7 3.3 5.7 2.5]\n",
      " [6.7 3.  5.2 2.3]\n",
      " [6.3 2.5 5.  1.9]\n",
      " [6.5 3.  5.2 2. ]\n",
      " [6.2 3.4 5.4 2.3]\n",
      " [5.9 3.  5.1 1.8]] \n",
      "\n",
      "Estas son las caracteristicas del dataset:  ['sepal length (cm)', 'sepal width (cm)', 'petal length (cm)', 'petal width (cm)'] \n",
      "\n",
      "Este es el objetivo que intentamos modelar:  [0 0 0 0 0 0 0 0 0 0 0 0 0 0 0 0 0 0 0 0 0 0 0 0 0 0 0 0 0 0 0 0 0 0 0 0 0\n",
      " 0 0 0 0 0 0 0 0 0 0 0 0 0 1 1 1 1 1 1 1 1 1 1 1 1 1 1 1 1 1 1 1 1 1 1 1 1\n",
      " 1 1 1 1 1 1 1 1 1 1 1 1 1 1 1 1 1 1 1 1 1 1 1 1 1 1 2 2 2 2 2 2 2 2 2 2 2\n",
      " 2 2 2 2 2 2 2 2 2 2 2 2 2 2 2 2 2 2 2 2 2 2 2 2 2 2 2 2 2 2 2 2 2 2 2 2 2\n",
      " 2 2] \n",
      "\n",
      "Estos son los nombres la salida o target:  ['setosa' 'versicolor' 'virginica']\n"
     ]
    }
   ],
   "source": [
    "# Data\n",
    "print(\"Estos son el conjunto de datos: \" ,iris.data, \"\\n\")\n",
    "# Feature_name\n",
    "print(\"Estas son las caracteristicas del dataset: \", iris.feature_names, \"\\n\")\n",
    "# target\n",
    "print(\"Este es el objetivo que intentamos modelar: \", iris.target, \"\\n\")\n",
    "# target_names\n",
    "print(\"Estos son los nombres la salida o target: \", iris.target_names)"
   ]
  },
  {
   "cell_type": "markdown",
   "id": "d2886094",
   "metadata": {},
   "source": [
    "### El dataset contiene contien lo siguiente:\n",
    "\n",
    "* **data** : que son el conjunto de datos con 150 filas y 4 columnas\n",
    "* **feature_name**: indica el nombre de las característica o columnas del dataset,\n",
    "  * sepal_lenght, sepal_width, petal_lenght, petal_width\n",
    "* **target**: es tipicamente el objetivo que intentamos modelar\n",
    "* **target_names**: indican las 3 especies de flores\n",
    "  * setosa, vesicolor y virginica"
   ]
  },
  {
   "cell_type": "markdown",
   "id": "0c306e6f",
   "metadata": {},
   "source": [
    "Nuestra meta es usar los features o descritores de la planta para predecir la especie de la planta.\n",
    "\n",
    "A continuación vamos a convertir el datasets en un **dataframe** para poder manipular los datos con facilidad"
   ]
  },
  {
   "cell_type": "code",
   "execution_count": 4,
   "id": "a9a339c2",
   "metadata": {},
   "outputs": [
    {
     "data": {
      "text/html": [
       "<div>\n",
       "<style scoped>\n",
       "    .dataframe tbody tr th:only-of-type {\n",
       "        vertical-align: middle;\n",
       "    }\n",
       "\n",
       "    .dataframe tbody tr th {\n",
       "        vertical-align: top;\n",
       "    }\n",
       "\n",
       "    .dataframe thead th {\n",
       "        text-align: right;\n",
       "    }\n",
       "</style>\n",
       "<table border=\"1\" class=\"dataframe\">\n",
       "  <thead>\n",
       "    <tr style=\"text-align: right;\">\n",
       "      <th></th>\n",
       "      <th>sepal length (cm)</th>\n",
       "      <th>sepal width (cm)</th>\n",
       "      <th>petal length (cm)</th>\n",
       "      <th>petal width (cm)</th>\n",
       "      <th>especies</th>\n",
       "    </tr>\n",
       "  </thead>\n",
       "  <tbody>\n",
       "    <tr>\n",
       "      <th>91</th>\n",
       "      <td>6.1</td>\n",
       "      <td>3.0</td>\n",
       "      <td>4.6</td>\n",
       "      <td>1.4</td>\n",
       "      <td>1</td>\n",
       "    </tr>\n",
       "    <tr>\n",
       "      <th>63</th>\n",
       "      <td>6.1</td>\n",
       "      <td>2.9</td>\n",
       "      <td>4.7</td>\n",
       "      <td>1.4</td>\n",
       "      <td>1</td>\n",
       "    </tr>\n",
       "    <tr>\n",
       "      <th>103</th>\n",
       "      <td>6.3</td>\n",
       "      <td>2.9</td>\n",
       "      <td>5.6</td>\n",
       "      <td>1.8</td>\n",
       "      <td>2</td>\n",
       "    </tr>\n",
       "    <tr>\n",
       "      <th>6</th>\n",
       "      <td>4.6</td>\n",
       "      <td>3.4</td>\n",
       "      <td>1.4</td>\n",
       "      <td>0.3</td>\n",
       "      <td>0</td>\n",
       "    </tr>\n",
       "    <tr>\n",
       "      <th>59</th>\n",
       "      <td>5.2</td>\n",
       "      <td>2.7</td>\n",
       "      <td>3.9</td>\n",
       "      <td>1.4</td>\n",
       "      <td>1</td>\n",
       "    </tr>\n",
       "  </tbody>\n",
       "</table>\n",
       "</div>"
      ],
      "text/plain": [
       "     sepal length (cm)  sepal width (cm)  petal length (cm)  petal width (cm)  \\\n",
       "91                 6.1               3.0                4.6               1.4   \n",
       "63                 6.1               2.9                4.7               1.4   \n",
       "103                6.3               2.9                5.6               1.8   \n",
       "6                  4.6               3.4                1.4               0.3   \n",
       "59                 5.2               2.7                3.9               1.4   \n",
       "\n",
       "     especies  \n",
       "91          1  \n",
       "63          1  \n",
       "103         2  \n",
       "6           0  \n",
       "59          1  "
      ]
     },
     "execution_count": 4,
     "metadata": {},
     "output_type": "execute_result"
    }
   ],
   "source": [
    "# Creamos un dataframe con los feature names.\n",
    "data = pd.DataFrame(data = iris.data, columns = iris.feature_names )\n",
    "\n",
    "# Creamos el datafreme con los targets, es decir las especies de la flor\n",
    "target = pd.DataFrame(data = iris.target, columns = ['especies'])\n",
    "\n",
    "# Unimos ambos Dataframes con 'concat', y agregamos una nueva columna\n",
    "data = pd.concat([data, target], axis =1)\n",
    "\n",
    "# Mezclamos lo datos en orden aleatorio\n",
    "data = data.sample(frac = 1, random_state = 1234)\n",
    "\n",
    "# Imprimimos los nuevos registros del nuevo dataframe\n",
    "data.head()"
   ]
  },
  {
   "cell_type": "markdown",
   "id": "745888b4",
   "metadata": {},
   "source": [
    "## Separando nuestro datos: training y testing\n",
    "\n",
    "Antes de comenzar a crear nuestros modelos, es importante dividir nuestro conjunto de datos en Entrenamiento (Training) y  Pruebas (Testing).\n",
    "\n",
    "La regla general dice que la mayoria de datos deben incluirse en **Training**, los datos de entrenamiento se utilizan para ayudar a nuestros modelos a aprender reglas o patrones subyacentes dentro de los datos.\n",
    "\n",
    "El conjunto de **Testing** debe separarse del conjunto de entrenamiento. Su objetivo es evaluar lo que hizo el modelo, lo que significa que verificamos si los patrones detectados en el modelo reflejan lo que estamos tratando de modelar.\n",
    "\n",
    "También recordemos que existe el término **Validation (Validación)**. Esta separación del dataset se usa tipicamente para modelos más complicados donde se requieren parámetros de ajuste de un modelo. En el siguiente caso estos modelos son lo suficientemente simples como para que los datos de validación no sean necesarios.\n",
    "\n",
    "La división de los datos se lo hace en un 80% training y 20% testing, lo que suele ser razonable de manera elemental.\n"
   ]
  },
  {
   "cell_type": "code",
   "execution_count": 5,
   "id": "14df8faa",
   "metadata": {},
   "outputs": [],
   "source": [
    "# Fracción de entrenamiento 0.8, es decir obtenemos el 80% de las filas del DataFrame\n",
    "Ntrain = int(data.shape[0]*0.8)\n",
    "\n",
    "# Datos de entrenamiento\n",
    "train = data.iloc[:Ntrain, :]\n",
    "\n",
    "# Datos de prueba\n",
    "test = data.iloc[Ntrain:, :]"
   ]
  },
  {
   "cell_type": "code",
   "execution_count": 6,
   "id": "da7c9b54",
   "metadata": {},
   "outputs": [
    {
     "data": {
      "text/plain": [
       "120"
      ]
     },
     "execution_count": 6,
     "metadata": {},
     "output_type": "execute_result"
    }
   ],
   "source": [
    "Ntrain"
   ]
  },
  {
   "cell_type": "code",
   "execution_count": 7,
   "id": "99fda27a",
   "metadata": {},
   "outputs": [
    {
     "data": {
      "text/plain": [
       "(120, 5)"
      ]
     },
     "execution_count": 7,
     "metadata": {},
     "output_type": "execute_result"
    }
   ],
   "source": [
    "train.shape"
   ]
  },
  {
   "cell_type": "code",
   "execution_count": 8,
   "id": "6ab7fd4e",
   "metadata": {},
   "outputs": [
    {
     "data": {
      "text/plain": [
       "(30, 5)"
      ]
     },
     "execution_count": 8,
     "metadata": {},
     "output_type": "execute_result"
    }
   ],
   "source": [
    "test.shape"
   ]
  },
  {
   "cell_type": "markdown",
   "id": "f3bf1449",
   "metadata": {},
   "source": [
    "## Regresión Lineal\n",
    "\n",
    "La regresión lineal es un algoritmo que intenta predecir un valor numérico. La especie de la flor es una etiqueta o Label. Así que intentemos pensar en un modelo en el que podamos predecir la salida de un número.\n",
    "\n",
    "Para este ejemplo supongamos que queremos predecir **petal width** o ancho del pétalo (index = 3 en el DataFrame)\n",
    "\n",
    "Para comenzar construyamos un modelo con solo un feature, el **petal length** o largo del pétalo (index =2 en el DataFrame)\n",
    "\n",
    "Primero veamos la relación entre el **petal length** y **petal width** en los datos:"
   ]
  },
  {
   "cell_type": "code",
   "execution_count": 9,
   "id": "8121bd23",
   "metadata": {},
   "outputs": [
    {
     "data": {
      "image/png": "[encoded data removed]",
      "text/plain": [
       "<Figure size 360x360 with 1 Axes>"
      ]
     },
     "metadata": {
      "needs_background": "light"
     },
     "output_type": "display_data"
    }
   ],
   "source": [
    "# Definimos variables para acceder de forma más simple a las columnas de nuestos features.\n",
    "p_length = data['petal length (cm)']\n",
    "p_width = data['petal width (cm)']\n",
    "\n",
    "# Creamos la gráfica comparando petal length (eje x) vs petal width (eje y)\n",
    "fig = plt.figure(figsize = (5,5))\n",
    "ax = fig.add_subplot(1,1,1)\n",
    "ax.scatter(p_length, p_width)\n",
    "ax.set_xlabel('Petal Length')\n",
    "ax.set_ylabel('Petal Width')\n",
    "ax.set_title('Petal Length vs Petal Width')\n",
    "fig.tight_layout()"
   ]
  },
  {
   "cell_type": "markdown",
   "id": "1fc3799f",
   "metadata": {},
   "source": [
    "### Aplicando la Regresión Lineal\n",
    "\n",
    "De lo anterior podemos ver una relación **lineal**. Queremos cuantificar ésta relación.\n",
    "\n",
    "En la gráfica anterior ***x*** es el Petal Length y ***y*** es Petal Width. Queremos ajustar un modelo a la forma $\\theta_1*x + \\theta_0 = y$, la ecuación de la recta para generar nuestra regresión lineal.\n",
    "\n",
    "Podemos utilizar scikit-learn para construir un modelo de regresión lineal como tenemos a continuación, usando nuestros datos de entrenamiento\n",
    "\n",
    "**Nota:** Aparecerá un molesto error ya que scikit-learn espera un input 2D (Nx1) y para solucionarlo llamamos 'pd.DataFrame' en el x-input para ajustar el comando."
   ]
  },
  {
   "cell_type": "code",
   "execution_count": 10,
   "id": "94a0ba63",
   "metadata": {},
   "outputs": [
    {
     "name": "stdout",
     "output_type": "stream",
     "text": [
      "Coef\n",
      " [0.41490802]\n",
      "\n",
      "\n",
      "Bias\n",
      " -0.3575893142485458\n"
     ]
    }
   ],
   "source": [
    "# Importamos un objeto de regresión lineal de sklearn\n",
    "model_1 = linear_model.LinearRegression()\n",
    "\n",
    "# Ajustamos el modelo a nuestros datos de entrenamiento (para los features petal length y peta width)\n",
    "model_1.fit(pd.DataFrame(train.iloc[:, 2]), train.iloc[:, 3])\n",
    "\n",
    "# Imprimimos coeficientes.\n",
    "print(\"Coef\\n\", model_1.coef_)\n",
    "\n",
    "# Imprimos el sesgo o bías.\n",
    "print(\"\\n\\nBias\\n\", model_1.intercept_)"
   ]
  },
  {
   "cell_type": "markdown",
   "id": "bbd5e123",
   "metadata": {},
   "source": [
    "El resultado anterior nos dice que $\\theta_1$ , la relación con el Petal Length es de $0.41$, y el bías es de $-0.36$\n",
    "\n",
    "En conjunto esperamos que la fórmula se vea así:\n",
    "$\\theta_1 * x + \\theta_0 = 0.41*x - 0.36 = y$ <br>\n",
    "\n",
    "Grafiquemos esto para observarlo."
   ]
  },
  {
   "cell_type": "code",
   "execution_count": 11,
   "id": "35101dd5",
   "metadata": {},
   "outputs": [
    {
     "data": {
      "image/png": "[encoded data removed]",
      "text/plain": [
       "<Figure size 360x360 with 1 Axes>"
      ]
     },
     "metadata": {
      "needs_background": "light"
     },
     "output_type": "display_data"
    }
   ],
   "source": [
    "# Definimos variables para acceder de forma más simple a las columnas de nuestos features.\n",
    "p_length = data['petal length (cm)']\n",
    "p_width = data['petal width (cm)']\n",
    "\n",
    "# Definimos un arreglo desde el valor mínimo del petal length hasta el máximo del petal length + 1, en pasos de 0.5, \n",
    "# ...generando el dominio para la función.\n",
    "xvals = np.arange(p_length.min(), p_length.max()+1, 0.5)\n",
    "\n",
    "# Ecuación de nuestra regresión lineal\n",
    "yvals = 0.41*xvals - 0.36\n",
    "\n",
    "# Graficamos el conjunto de datos y nuestra ecuación de regresión lineal\n",
    "fig = plt.figure(figsize = (5,5))\n",
    "ax = fig.add_subplot(1,1,1)\n",
    "ax.scatter(p_length, p_width)\n",
    "ax.plot(xvals, yvals, 'k', linewidth = 3)\n",
    "ax.set_xlabel(\"Petal Lenght\")\n",
    "ax.set_ylabel(\"Petal Width\")\n",
    "ax.set_title(\"Petal Length vs Petal Width\")\n",
    "fig.tight_layout()"
   ]
  },
  {
   "cell_type": "markdown",
   "id": "31eef1d0",
   "metadata": {},
   "source": [
    "#### No es una mala relación. Podemos dar un paso más para cuantificar \"que tan bueno es el ajuste\" utilizando dos métricas  de rendimiento:\n",
    "* El error cuadrático medio (MSE)\n",
    "* $R^2$\n",
    "\n",
    "El valor de $R^2$ busca la correlación entre ***x*** y ***y***. Para este caso \"qué tan bien se ajusta la línea a los punto de nuestros datos\".\n",
    "\n",
    "Siempre queremos un MSE bajo y $R^2$ cercano a 1. $R^2$ que está limitado de 0 (no correlacionado) a 1 (relación perfecta).\n",
    "\n",
    "Podemos calcular nuestras métricas de rendimiento prediciendo primero en nuestro **conjunto de datos de pruebas** y luego viendo que tan buena es la estimación de nuestro modelo del Petal Width cuando se usa la Petal Length, en comparación con los valores reales del Petal Width."
   ]
  },
  {
   "cell_type": "code",
   "execution_count": 12,
   "id": "68ce9eac",
   "metadata": {},
   "outputs": [
    {
     "name": "stdout",
     "output_type": "stream",
     "text": [
      "MSE: 0.04\n",
      "R2: 0.94\n"
     ]
    }
   ],
   "source": [
    "# Predicción con model_1 = linear_model.LinearRegression() utilizando los datos de prueba.\n",
    "x_test = pd.DataFrame(test.iloc[:, 2])\n",
    "ypredict = model_1.predict(x_test)\n",
    "\n",
    "#Calculamos el MSE con los valores predichos en y:\n",
    "print('MSE: %.2f'%mean_squared_error(pd.DataFrame(test.iloc[:, 3]), ypredict))\n",
    "\n",
    "# Calculamos R^2 con los valores predichos y.\n",
    "print('R2: %.2f'% r2_score(pd.DataFrame(test.iloc[:, 3]), ypredict))"
   ]
  },
  {
   "cell_type": "markdown",
   "id": "6e8ffc50",
   "metadata": {},
   "source": [
    "Excelente podemos ver que existe una relación decente entre la longitud y el ancho de los pétalos, pues el error cuadrático medio es cercano a cero y R2 se acerca a 1."
   ]
  },
  {
   "cell_type": "markdown",
   "id": "a26c1474",
   "metadata": {},
   "source": [
    "A continuación graficamos los puntos con **x_test** y el target predecido **ypredict** en conjunto con los datos originales, para probar visualmente los resultados."
   ]
  },
  {
   "cell_type": "code",
   "execution_count": 13,
   "id": "d08c2790",
   "metadata": {},
   "outputs": [
    {
     "data": {
      "image/png": "[encoded data removed]",
      "text/plain": [
       "<Figure size 360x360 with 1 Axes>"
      ]
     },
     "metadata": {
      "needs_background": "light"
     },
     "output_type": "display_data"
    }
   ],
   "source": [
    "# Definimos variables para acceder de forma más simple a las columnas de nuestos features.\n",
    "p_length = data['petal length (cm)']\n",
    "p_width = data['petal width (cm)']\n",
    "\n",
    "# Definimos un arreglo desde el valor mínimo del petal length hasta el máximo del petal length + 1, en pasos de 0.5, \n",
    "# ...generando el dominio para la función.\n",
    "xvals = np.arange(p_length.min(), p_length.max()+1, 0.5)\n",
    "\n",
    "# Ecuación de nuestra regresión lineal\n",
    "yvals = 0.41*xvals - 0.36\n",
    "\n",
    "# Creamos la gráfica comparando petal length (eje x) vs petal width (eje y)\n",
    "fig = plt.figure(figsize = (5,5))\n",
    "ax = fig.add_subplot(1,1,1)\n",
    "ax.scatter(x_test, ypredict, marker = '*')\n",
    "ax.scatter(p_length, p_width, marker = '*')\n",
    "#ax.plot(xvals, yvals, 'k', linewidth = 3)\n",
    "ax.set_xlabel('Petal Length')\n",
    "ax.set_ylabel('Petal Width')\n",
    "ax.set_title('Petal Length vs Petal Width')\n",
    "fig.tight_layout()"
   ]
  },
  {
   "cell_type": "markdown",
   "id": "f2c50a11",
   "metadata": {},
   "source": [
    "### Regresión Logística\n",
    "\n",
    "Similar a la regresión lineal,la cual ajusta una línea con los coeficientes. Sin embargo a diferencia de la regresión lineal, este modelo tiene como objetivo **clasificar datos**.\n",
    "\n",
    "A partir del ancho de los pétalos, podemos ver que hay tres comportamientos distintos de cada una de las especies de flores. Usando el largo/ancho del sépalo y el largo/ancho del pétalo, nos gustaría clasificar a qué especie de flor pertenece cada punto de datos.\n",
    "\n",
    "Para hacer esto podemos emplear regresión logística. En la regresión logística binaria estamos tratando de ajustar un logaritmo de relación impar, es decir, una probabilidad de un clase particular en relación con otra clase.\n",
    "\n",
    "En este problema hay tres especies, por lo que la fórmula esta ligeramente adaptada. Afortunadamente scikit-learn puede manejar problemas de etiquetas binarias o de etiquetas múltiples con mucha facilidad.\n",
    "\n",
    "Para construir un modelo de regresión logística se puede utilizar lo siguiente:"
   ]
  },
  {
   "cell_type": "code",
   "execution_count": 14,
   "id": "70c82e39",
   "metadata": {},
   "outputs": [
    {
     "name": "stderr",
     "output_type": "stream",
     "text": [
      "/home/richard/anaconda3/lib/python3.9/site-packages/sklearn/linear_model/_logistic.py:763: ConvergenceWarning: lbfgs failed to converge (status=1):\n",
      "STOP: TOTAL NO. of ITERATIONS REACHED LIMIT.\n",
      "\n",
      "Increase the number of iterations (max_iter) or scale the data as shown in:\n",
      "    https://scikit-learn.org/stable/modules/preprocessing.html\n",
      "Please also refer to the documentation for alternative solver options:\n",
      "    https://scikit-learn.org/stable/modules/linear_model.html#logistic-regression\n",
      "  n_iter_i = _check_optimize_result(\n"
     ]
    },
    {
     "data": {
      "text/plain": [
       "LogisticRegression()"
      ]
     },
     "execution_count": 14,
     "metadata": {},
     "output_type": "execute_result"
    }
   ],
   "source": [
    "# Preparamos los datos de entrenamiento y prueba: en 'x' y 'y'\n",
    "# La última columna es la etiqueta de la especie.\n",
    "\n",
    "# Para xtrain excluimos la columna especies\n",
    "xtrain = train.iloc[:, :-1] #input test\n",
    "\n",
    "# Para ytrain establecemos unicamente la columna especies\n",
    "ytrain = train.iloc[:, -1] #output test\n",
    "\n",
    "# Igual lo hacemos para las varibles de testing\n",
    "xtest = test.iloc[:, :-1] #input test\n",
    "ytest = test.iloc[:, -1] #outputt test\n",
    "\n",
    "# Configuramos la regresión logística con el método de regresión logística de linear_model\n",
    "model_2 = linear_model.LogisticRegression()\n",
    "\n",
    "# Ajustamos el modelo con los datos de entrenamiento\n",
    "model_2.fit(xtrain, ytrain)"
   ]
  },
  {
   "cell_type": "markdown",
   "id": "b49f1083",
   "metadata": {},
   "source": [
    "La evaluación de la regresión logística utilizará **presición** (accuracy), o un recuento de la cantidad de veces que el modelo etiqueta correctamente un ejemplo.\n",
    "\n",
    "Lo podemos hacer de la siguiente manera."
   ]
  },
  {
   "cell_type": "code",
   "execution_count": 15,
   "id": "6c717dd8",
   "metadata": {},
   "outputs": [
    {
     "name": "stdout",
     "output_type": "stream",
     "text": [
      "Testing accuracy =  1.0\n"
     ]
    }
   ],
   "source": [
    "# Hacer predicciones con el conjunto de prueba\n",
    "ypred =  model_2.predict(xtest)\n",
    "\n",
    "# Imprimimos la presición o accuracity del modelo generado\n",
    "print(\"Testing accuracy = \", accuracy_score(ytest, ypred))"
   ]
  },
  {
   "cell_type": "markdown",
   "id": "04ae93dc",
   "metadata": {},
   "source": [
    "Increíblementem nuestro modelo modelo pudo obtener todos los ejemplos correctamente!\n",
    "\n",
    "Tal hazaña solo puede ocurrir si el conjunto de prueba de los datos es separable linelamente, una condición especial en la que es realmente fácil agrupar los datos, o una línea (o plano) dibujado puede separar completamente entre todas las muestas de diferentes clases.\n",
    "\n",
    "En problemas más complicados, es posible que necesites verificar la matriz de confusión preguntado cuales son los verdaderos positivos, verdaderos negatuvos, falsos positivos y falsos negativos. Se puede hacer esto ultilizando la matriz de confusión de scikit-learn de la siguiente forma:"
   ]
  },
  {
   "cell_type": "markdown",
   "id": "fd6ed773",
   "metadata": {},
   "source": [
    "A continuación graficaremos los resultados para ver de manera visual la presición del algoritmo"
   ]
  },
  {
   "cell_type": "code",
   "execution_count": 16,
   "id": "91ea67c8",
   "metadata": {},
   "outputs": [
    {
     "name": "stderr",
     "output_type": "stream",
     "text": [
      "/home/richard/anaconda3/lib/python3.9/site-packages/seaborn/_decorators.py:36: FutureWarning: Pass the following variables as keyword args: x, y. From version 0.12, the only valid positional argument will be `data`, and passing other arguments without an explicit keyword will result in an error or misinterpretation.\n",
      "  warnings.warn(\n",
      "/home/richard/anaconda3/lib/python3.9/site-packages/seaborn/_decorators.py:36: FutureWarning: Pass the following variables as keyword args: x, y. From version 0.12, the only valid positional argument will be `data`, and passing other arguments without an explicit keyword will result in an error or misinterpretation.\n",
      "  warnings.warn(\n"
     ]
    },
    {
     "data": {
      "text/plain": [
       "Text(0.5, 1.0, 'Con clasificación')"
      ]
     },
     "execution_count": 16,
     "metadata": {},
     "output_type": "execute_result"
    },
    {
     "data": {
      "image/png": "[encoded data removed]",
      "text/plain": [
       "<Figure size 432x288 with 1 Axes>"
      ]
     },
     "metadata": {
      "needs_background": "light"
     },
     "output_type": "display_data"
    },
    {
     "data": {
      "image/png": "[encoded data removed]",
      "text/plain": [
       "<Figure size 432x288 with 1 Axes>"
      ]
     },
     "metadata": {
      "needs_background": "light"
     },
     "output_type": "display_data"
    }
   ],
   "source": [
    "ax = plt.figure()\n",
    "sns.scatterplot(xtest.iloc[:,2], xtest.iloc[:,3], hue = ytest)\n",
    "plt.title('Sin clasificación')\n",
    "ax = plt.figure()\n",
    "sns.scatterplot(xtest.iloc[:,2], xtest.iloc[:,3], hue = ypred)\n",
    "plt.title('Con clasificación')"
   ]
  },
  {
   "cell_type": "code",
   "execution_count": 17,
   "id": "ea694a36",
   "metadata": {},
   "outputs": [
    {
     "data": {
      "text/plain": [
       "array([[11,  0,  0],\n",
       "       [ 0,  7,  0],\n",
       "       [ 0,  0, 12]])"
      ]
     },
     "execution_count": 17,
     "metadata": {},
     "output_type": "execute_result"
    }
   ],
   "source": [
    "# Ejemplo de la matriz de confusión de scikit-learn \n",
    "# Importamos el método de matriz de confusión de scikit learn\n",
    "from sklearn.metrics import confusion_matrix\n",
    "\n",
    "# Aplicamos la matriz a nuestros valores de testing y los valors de predicción generados\n",
    "confusion_matrix(ytest, ypred)\n"
   ]
  },
  {
   "cell_type": "markdown",
   "id": "b2cef6a3",
   "metadata": {},
   "source": [
    "Ten en cuenta que, dado que hay tres clases, cada columna y fila individual corresponde a una clase. Las columnas corresponden a las etiquetas predichas y las filas a las etiquetas verdaderas.\n",
    "\n",
    "\n",
    "### Regresión Logística - regularización\n",
    "\n",
    "Vale la pena mirar los argumentos predeterminados de LogisticRegression de scikit-learn. Una cosa a buscar son los términos de **regularización** y **penalización**.\n",
    "\n",
    "La **regularización** tiene la intención de ayudar a los modelos asegurandose de que no se ajusten demasiado. Al agregar un nuevo término a la función de perdida, el modelo penalizará al tamaño de cada coeficiente en el modelo.\n",
    "\n",
    "El **sobreajuste** o **overfitting** significa que el modelo funcionará fantásticamente en el conjunto de entrenamiento, pero horriblemnte en el conjunto de prueba (o el de validación. La regularización intenta hacer que los coeficientes de las caracterísitcas redundantes/no útiles sean lo más cercanos a 0 como sea posible, lo que significa que juegan un papel pequeño en la predicción.\n",
    "\n",
    "En scikit-learn **penalty** o penalización se refiere al tipo de regularización, normalmente L1 o L2. Ambos métodos fomentan las escasez(lo que significa que muchos de los coeficienes delante de las características se acercan a 0). Además, la fuerza de la penalización inversa (regularización) es c. Un valor de c grande indica una menor fuerza de penalización, así que disminuye gradualmente este valor mientras intentas encontrar los features mas importantes.  "
   ]
  },
  {
   "cell_type": "markdown",
   "id": "691659aa",
   "metadata": {},
   "source": [
    "### Random Forest (bosque aleatorio)\n",
    "\n",
    "En el último enfoque que analizaremos es el bosque aleatorio. Como estamos tratando de etiquetar entre especies, usaremos un clasificador de bosque aleatorio.\n",
    "\n",
    "Radom Forest tiene varios argumentos de entrada. Por simplicidad solo agragaremos los n_stimators. Corresponden al número de árboles en el bosque."
   ]
  },
  {
   "cell_type": "code",
   "execution_count": 18,
   "id": "8ac56256",
   "metadata": {},
   "outputs": [
    {
     "name": "stdout",
     "output_type": "stream",
     "text": [
      "Testing accuracy =  1.0\n"
     ]
    }
   ],
   "source": [
    "# Bosque aleatorio de desición (árboles de desición)\n",
    "clf = RandomForestClassifier(n_estimators=3)\n",
    "\n",
    "# Entrenamos el modelo \n",
    "clf.fit(xtrain, ytrain)\n",
    "\n",
    "# Generamos predicción\n",
    "y_pred = clf.predict(xtest)\n",
    "\n",
    "# Probamos el modelo con accuracy\n",
    "print(\"Testing accuracy = \", accuracy_score(ytest, ypred))\n"
   ]
  },
  {
   "cell_type": "markdown",
   "id": "1589cc75",
   "metadata": {},
   "source": [
    "Dado este dataset de juguete, el modelo es capaz de conseguir perfección en la prueba \"accuracy\"(100% o 1).\n",
    "\n",
    "Con datos de un caso real y menos \"perfecto\" esto no pasará, pero si buscaríamos que no se acerque lo más a 1."
   ]
  },
  {
   "cell_type": "markdown",
   "id": "11c10c22",
   "metadata": {},
   "source": [
    "### K-means clustering \n",
    "\n",
    "En el último enfoque, intentaremos ver si hay hay patrones dentro de los datos usando K-Means. K-Means es un algoritmo de aprendizaje no supervisado, lo que significa que no se requieren etiquetas para entrenar.\n",
    "\n",
    "Aquí ya sabemos que hay tres especies diferentes de flores, y hemos tenido muchos modelos de entrenamiento exitosos para reconocer estas especies. Sin embargo en muchos problemas, es posible que no sepamos de antemano que grupos pueden existir ya en los datos.\n",
    "\n",
    "Para ello, K-Means sobresale. A continuación, usaremos un modelo de K-Means e intentaremos encontrar cuántos grupos hay.\n",
    "\n",
    "Primero inicializamos nuestro modelo K-Means. Existen muchos argumentos en la implementación de scikit-learn. Mientras que usaremos los que están por defecto, el principal a tomar en cuenta es n_cluster o cuántos grupos pasamos de antemano que hay en los datos. También usaremos random_state, pero eso es para asegurar la reproductibilidad.\n",
    "\n",
    "Ten en cuenta que usaremos el conjunto de datos completo aquí, pero es posible encajar en un conjunto de entrenamiento y usar un conjunto de pruebas por separado para ver que tan \"robustos\" son los clusteres.\n",
    "\n",
    "Para simplificar la visualización, entrenaremos con petal_length y petal_width."
   ]
  },
  {
   "cell_type": "code",
   "execution_count": 22,
   "id": "ff8b26a6",
   "metadata": {},
   "outputs": [
    {
     "name": "stdout",
     "output_type": "stream",
     "text": [
      "Inertia = 86.39021984551398\n",
      "Centroids (x,y) =\n",
      " [[1.49215686 0.2627451 ]\n",
      " [4.92525253 1.68181818]]\n"
     ]
    }
   ],
   "source": [
    "# Inicializamo el modelo K-Means\n",
    "k2model = KMeans(n_clusters=2, random_state=42)\n",
    "\n",
    "# Ajustar todos los puntos de datos EXCEPTO para la especie\n",
    "k2model.fit(data[['petal length (cm)', 'petal width (cm)']])\n",
    "\n",
    "# Calculamos e imprimimos la inercia desde el modelo K-Means\n",
    "print(\"Inertia =\", k2model.inertia_)\n",
    "\n",
    "# Calculamos e imprimimos la posición de los clústers.\n",
    "print(\"Centroids (x,y) =\\n\", k2model.cluster_centers_)"
   ]
  },
  {
   "cell_type": "markdown",
   "id": "7108d49c",
   "metadata": {},
   "source": [
    "Primero visualicemos estos centroides de clústeres en un diagrama de dispersión de los puntos dados.\n",
    "\n",
    "Antes de trazar los centros de los clústeres primero trazaré los puntos de datos. Para mayor claridad, también los coloreare de acuerdo con las etiquetas. **NOTA, los modelos entrenaron sin conocer estas etiquetas**"
   ]
  },
  {
   "cell_type": "code",
   "execution_count": 20,
   "id": "b84a04d0",
   "metadata": {},
   "outputs": [
    {
     "data": {
      "image/png": "[encoded data removed]",
      "text/plain": [
       "<Figure size 360x360 with 1 Axes>"
      ]
     },
     "metadata": {
      "needs_background": "light"
     },
     "output_type": "display_data"
    }
   ],
   "source": [
    "# Graficamos los datos con la línea Setosa.\n",
    "fig = plt.figure(figsize = (5,5))\n",
    "ax = fig.add_subplot(1,1,1)\n",
    "\n",
    "# Setosa\n",
    "ax.scatter(data[data.iloc[:, -1]==0][\"petal length (cm)\"],\n",
    "           data[data.iloc[:, -1]==0][\"petal width (cm)\"],\n",
    "           c = 'k')\n",
    "\n",
    "# Versicolor\n",
    "ax.scatter(data[data.iloc[:, -1]==1][\"petal length (cm)\"],\n",
    "           data[data.iloc[:, -1]==1][\"petal width (cm)\"],\n",
    "           c = 'r')\n",
    "\n",
    "# Virginica\n",
    "ax.scatter(data[data.iloc[:, -1]==2][\"petal length (cm)\"],\n",
    "           data[data.iloc[:, -1]==2][\"petal width (cm)\"],\n",
    "           c = 'b')\n",
    "\n",
    "ax.legend(['Setosa', 'Versicolor', 'Virginca'])\n",
    "\n",
    "# Graficamos los centroides de los clústers (output en Petal Length x Petal Width)\n",
    "ax.plot(k2model.cluster_centers_[:, 0],\n",
    "        k2model.cluster_centers_[:, 1],\n",
    "        \"g*\", markersize=30)\n",
    "\n",
    "ax.set_xlabel(\"Petal Length\")\n",
    "ax.set_ylabel(\"Petal Width\")\n",
    "ax.set_title(\"Petal Length vs Petal Width\")\n",
    "fig.tight_layout()\n",
    "                                   \n"
   ]
  },
  {
   "cell_type": "markdown",
   "id": "622a6348",
   "metadata": {},
   "source": [
    "No está mal, nuestro modelo pareció captar el clúster inferior, pero debido a que solo especificamos 2 clústers, parece que perdemos la diferencia entre Versicolor y Virginica. El modelo coloca apropiadamente un centroide entre ellos.\n",
    "\n",
    "En la práctica es posible que tengas las etiquetas disponibles como las que tenemos aquí. Entonces para poder indentificar como elegir el mejor \"k\" usamos un diagrama de codo tratanfo de ajustar un modelo para muchos ks diferentes en un panel pequeño. Trazamos un diagrama de codo tipicamente con inercia en el eje y, y el número de grupos en el eje x. La inercia puede ser recuperada por el modelo como se ve en las dos celdas de código arriba; mide que tan lejos están los puntos de datos de sus centros de conglomerados más cercanos. Idealmente, los modelos con menor inercia son mejores; sin embargo con más grupos, la inercia a menúdo seguirá disminuyendo marginalmente. Por lo tanto el diagrama de codo nos dice el mejor número de conglomerados que debemo tener para aprovechar el máximo de inercia. \n"
   ]
  },
  {
   "cell_type": "markdown",
   "id": "4f391d0c",
   "metadata": {},
   "source": [
    "### Conclusiones\n",
    "\n",
    "En este trabajo hemos cubierto lo esencia de diferentes modelos de machine learning usando scikit-learn:\n",
    "* Regresión Lineal\n",
    "* Regresión Logística\n",
    "* Bosques Aleatorios\n",
    "* K-Means\n",
    "\n",
    "En los datos que puedas trabajar en el futuro es posible que las respuetas no sean tan claras. Es importante probar muchos modelos y sonder realmente tu conjunto de datos para preguntar si las métricas de rendimiento realmente indican si los modelos están aprendiendo como se esperaría.\n",
    "\n"
   ]
  }
 ],
 "metadata": {
  "kernelspec": {
   "display_name": "Python 3 (ipykernel)",
   "language": "python",
   "name": "python3"
  },
  "language_info": {
   "codemirror_mode": {
    "name": "ipython",
    "version": 3
   },
   "file_extension": ".py",
   "mimetype": "text/x-python",
   "name": "python",
   "nbconvert_exporter": "python",
   "pygments_lexer": "ipython3",
   "version": "3.9.7"
  }
 },
 "nbformat": 4,
 "nbformat_minor": 5
}
